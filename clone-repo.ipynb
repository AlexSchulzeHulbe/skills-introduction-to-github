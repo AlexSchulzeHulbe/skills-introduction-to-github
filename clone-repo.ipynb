{
  "cells": [
    {
      "cell_type": "markdown",
      "metadata": {
        "id": "82N00EKkWFBa"
      },
      "source": [
        "# Cloning the GitHub repository\n",
        "This notebook will clone the GitHub repository to your own Google Drive. The repository will be cloned to `folderName`, which is set to \"ColabNotebooks\" by default, but you can change it by changing the `folderName` variable. Note that `git clone` will create a subfolder called \"EDA-2025\" automatically, so in the example below, the repo will be cloned to `/content/drive/MyDrive/ColabNotebooks/EDA-2025`.\n",
        "\n",
        "Just run the code by clicking in the cell and pressing `ctrl+enter`, or click the \"play\" button near the top left corner of the cell. You will need to grant permission to access your Google Drive."
      ]
    },
    {
      "cell_type": "code",
      "execution_count": 1,
      "metadata": {
        "colab": {
          "base_uri": "https://localhost:8080/"
        },
        "id": "vtYeE0LlV5Jh",
        "outputId": "df4bf791-9708-4713-88a3-928694c00ca5"
      },
      "outputs": [
        {
          "output_type": "stream",
          "name": "stdout",
          "text": [
            "Mounted at /content/drive\n",
            "/content/drive/MyDrive\n",
            "/content/drive/MyDrive/ColabNotebooks\n",
            "Cloning into 'EDA-2025'...\n",
            "remote: Enumerating objects: 78, done.\u001b[K\n",
            "remote: Counting objects: 100% (78/78), done.\u001b[K\n",
            "remote: Compressing objects: 100% (58/58), done.\u001b[K\n",
            "remote: Total 78 (delta 33), reused 56 (delta 17), pack-reused 0 (from 0)\u001b[K\n",
            "Receiving objects: 100% (78/78), 13.96 MiB | 14.65 MiB/s, done.\n",
            "Resolving deltas: 100% (33/33), done.\n"
          ]
        }
      ],
      "source": [
        "from google.colab import drive\n",
        "drive.mount('/content/drive')\n",
        "\n",
        "folderName = 'ColabNotebooks'\n",
        "\n",
        "%cd /content/drive/MyDrive/\n",
        "%mkdir $folderName\n",
        "%cd $folderName\n",
        "!git clone https://github.com/sacac-resources/EDA-2025.git"
      ]
    },
    {
      "cell_type": "markdown",
      "metadata": {
        "id": "b2mA1oc4b5H3"
      },
      "source": [
        "That's it, you're done! You can return to the [EDA GitHub page](https://github.com/sacac-resources/SACAC-EDA-2025) to continue preparing for the workshop."
      ]
    },
    {
      "cell_type": "markdown",
      "metadata": {
        "id": "DbesCMi-a7PA"
      },
      "source": [
        "# Updating the repository\n",
        "If you have previously cloned the repository into your Google Drive, but you'd like to update it, you can do so using a pull request"
      ]
    },
    {
      "cell_type": "code",
      "execution_count": null,
      "metadata": {
        "id": "WHhEVlWrb5H4"
      },
      "outputs": [],
      "source": [
        "from google.colab import drive\n",
        "drive.mount('/content/drive')\n",
        "\n",
        "folderName = 'ColabNotebooks'\n",
        "\n",
        "%cd /content/drive/MyDrive/\n",
        "%cd $folderName\n",
        "%cd EDA-2025\n",
        "!git stash\n",
        "!git pull"
      ]
    }
  ],
  "metadata": {
    "colab": {
      "provenance": []
    },
    "kernelspec": {
      "display_name": "py3_11",
      "language": "python",
      "name": "python3"
    },
    "language_info": {
      "codemirror_mode": {
        "name": "ipython",
        "version": 3
      },
      "file_extension": ".py",
      "mimetype": "text/x-python",
      "name": "python",
      "nbconvert_exporter": "python",
      "pygments_lexer": "ipython3",
      "version": "3.11.7"
    }
  },
  "nbformat": 4,
  "nbformat_minor": 0
}